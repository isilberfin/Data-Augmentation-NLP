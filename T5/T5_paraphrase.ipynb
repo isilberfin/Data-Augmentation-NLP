{
  "nbformat": 4,
  "nbformat_minor": 0,
  "metadata": {
    "colab": {
      "name": "T5-paraphrase.ipynb",
      "provenance": [],
      "collapsed_sections": []
    },
    "kernelspec": {
      "name": "python3",
      "display_name": "Python 3"
    },
    "language_info": {
      "name": "python"
    },
    "accelerator": "GPU"
  },
  "cells": [
    {
      "cell_type": "markdown",
      "source": [
        "\n",
        "# ***T5 Paraphrase***"
      ],
      "metadata": {
        "id": "F75UuSqdgrld"
      }
    },
    {
      "cell_type": "code",
      "execution_count": null,
      "metadata": {
        "id": "cZBqoS1zPXTO"
      },
      "outputs": [],
      "source": [
        "!pip install transformers"
      ]
    },
    {
      "cell_type": "code",
      "source": [
        "!pip install sentencepiece transformers\n",
        "\n",
        "import sentencepiece"
      ],
      "metadata": {
        "id": "4Tt4F6JfRVqD"
      },
      "execution_count": null,
      "outputs": []
    },
    {
      "cell_type": "code",
      "source": [
        "import pandas as pd\n",
        "train = pd.read_csv('reddit train.csv')"
      ],
      "metadata": {
        "id": "nxXYykxWSxGR"
      },
      "execution_count": 4,
      "outputs": []
    },
    {
      "cell_type": "code",
      "source": [
        "train = train[:5000]"
      ],
      "metadata": {
        "id": "BuaF9ZplTFxN"
      },
      "execution_count": 7,
      "outputs": []
    },
    {
      "cell_type": "code",
      "source": [
        "grouped = train.groupby(train[\"Y\"])\n",
        "one_labeled_texts = grouped.get_group(1)\n",
        "zero_labeled_texts = grouped.get_group(0)"
      ],
      "metadata": {
        "id": "RTXVOFihS4Nq"
      },
      "execution_count": 8,
      "outputs": []
    },
    {
      "cell_type": "code",
      "source": [
        "one_labeled_texts = one_labeled_texts.reset_index(drop= True)\n",
        "zero_labeled_texts = zero_labeled_texts.reset_index(drop= True)"
      ],
      "metadata": {
        "id": "aBkIdgfCTM9_"
      },
      "execution_count": 9,
      "outputs": []
    },
    {
      "cell_type": "code",
      "source": [
        "import pandas as pd\n",
        "\n",
        "seperated_data_zero = []\n",
        "\n",
        "data = zero_labeled_texts[\"text\"]\n",
        "\n",
        "context = \"\"\n",
        "for j in range(len(data)):\n",
        "  seperated_data_zero.append(data[j])\n",
        "\n",
        "print(seperated_data_zero[0])"
      ],
      "metadata": {
        "colab": {
          "base_uri": "https://localhost:8080/"
        },
        "id": "9-TaQeGfTTZo",
        "outputId": "25a22a4d-6a44-43ff-c6af-57791c251128"
      },
      "execution_count": 14,
      "outputs": [
        {
          "output_type": "stream",
          "name": "stdout",
          "text": [
            "Bring back old wits end and lets see how long your mana lasts :)\n"
          ]
        }
      ]
    },
    {
      "cell_type": "code",
      "source": [
        "seperated_data_one = []\n",
        "\n",
        "data = one_labeled_texts[\"text\"]\n",
        "\n",
        "context = \"\"\n",
        "for j in range(len(data)):\n",
        "  seperated_data_one.append(data[j])\n",
        "\n",
        "print(seperated_data_one[0])"
      ],
      "metadata": {
        "colab": {
          "base_uri": "https://localhost:8080/"
        },
        "id": "Odxhm3zcTYh_",
        "outputId": "73dfff19-25cc-48dd-da6b-e73b99a65a2e"
      },
      "execution_count": 15,
      "outputs": [
        {
          "output_type": "stream",
          "name": "stdout",
          "text": [
            "I don't know man, that Jeep looks really cool too...\n"
          ]
        }
      ]
    },
    {
      "cell_type": "code",
      "source": [
        "len(seperated_data_zero)   "
      ],
      "metadata": {
        "colab": {
          "base_uri": "https://localhost:8080/"
        },
        "id": "7TNcJ3dZTdKe",
        "outputId": "3a6064b1-2053-4634-8403-2767351c4fea"
      },
      "execution_count": 17,
      "outputs": [
        {
          "output_type": "execute_result",
          "data": {
            "text/plain": [
              "2513"
            ]
          },
          "metadata": {},
          "execution_count": 17
        }
      ]
    },
    {
      "cell_type": "code",
      "source": [
        "len(seperated_data_one)   "
      ],
      "metadata": {
        "colab": {
          "base_uri": "https://localhost:8080/"
        },
        "id": "ZUjHHrE0CqGJ",
        "outputId": "b899e682-3790-411e-c60f-4ae3906c911a"
      },
      "execution_count": 18,
      "outputs": [
        {
          "output_type": "execute_result",
          "data": {
            "text/plain": [
              "2487"
            ]
          },
          "metadata": {},
          "execution_count": 18
        }
      ]
    },
    {
      "cell_type": "code",
      "source": [
        "#fine-tuned model is taken from huggingface\n",
        "from transformers import AutoTokenizer, AutoModelForSeq2SeqLM\n",
        "\n",
        "tokenizer = AutoTokenizer.from_pretrained(\"Vamsi/T5_Paraphrase_Paws\")  \n",
        "model = AutoModelForSeq2SeqLM.from_pretrained(\"Vamsi/T5_Paraphrase_Paws\")"
      ],
      "metadata": {
        "id": "4k7GC7AaE_JA"
      },
      "execution_count": 51,
      "outputs": []
    },
    {
      "cell_type": "code",
      "source": [
        "#let's define a function that will do the paraphrase\n",
        "def paraphrase(sentence):\n",
        "  text =  \"paraphrase: \" + sentence + \" </s>\"\n",
        "  encoding = tokenizer.encode_plus(text,pad_to_max_length=True, return_tensors=\"pt\")\n",
        "  input_ids, attention_masks = encoding[\"input_ids\"].to(\"cpu\"), encoding[\"attention_mask\"].to(\"cpu\")\n",
        "\n",
        "\n",
        "  outputs = model.generate(\n",
        "     input_ids=input_ids, attention_mask=attention_masks,\n",
        "     max_length=256,\n",
        "     do_sample=True,\n",
        "     top_k=120,\n",
        "     top_p=0.95,\n",
        "     early_stopping=True,\n",
        "     num_return_sequences=1\n",
        "  )\n",
        "\n",
        "  for output in outputs:\n",
        "    line = tokenizer.decode(output, skip_special_tokens=True,clean_up_tokenization_spaces=True, use_cuda =False)\n",
        "  return line\n"
      ],
      "metadata": {
        "id": "74Q5m1brFxaq"
      },
      "execution_count": 52,
      "outputs": []
    },
    {
      "cell_type": "code",
      "source": [
        "paraphrase(\"This is something which i cannot understand at all\")"
      ],
      "metadata": {
        "colab": {
          "base_uri": "https://localhost:8080/",
          "height": 90
        },
        "id": "mR_dHAygGMd-",
        "outputId": "6559c0ba-eca1-45fa-89b5-8e9de2213992"
      },
      "execution_count": 54,
      "outputs": [
        {
          "output_type": "stream",
          "name": "stderr",
          "text": [
            "/usr/local/lib/python3.7/dist-packages/transformers/tokenization_utils_base.py:2232: FutureWarning: The `pad_to_max_length` argument is deprecated and will be removed in a future version, use `padding=True` or `padding='longest'` to pad to the longest sequence in the batch, or use `padding='max_length'` to pad to a max length. In this case, you can give a specific length with `max_length` (e.g. `max_length=45`) or leave max_length to None to pad to the maximal input size of the model (e.g. 512 for Bert).\n",
            "  FutureWarning,\n"
          ]
        },
        {
          "output_type": "execute_result",
          "data": {
            "application/vnd.google.colaboratory.intrinsic+json": {
              "type": "string"
            },
            "text/plain": [
              "'This is something which i cannot understand at all.'"
            ]
          },
          "metadata": {},
          "execution_count": 54
        }
      ]
    },
    {
      "cell_type": "code",
      "source": [
        "augmented_0_data=[]\n",
        "\n",
        "for s in range(len(seperated_data_zero)):\n",
        "  augmented_0_data.append(paraphrase(seperated_data_zero[s]))"
      ],
      "metadata": {
        "id": "YLwk3d0jTorc",
        "colab": {
          "base_uri": "https://localhost:8080/"
        },
        "outputId": "ff64609c-2fb7-4a4d-b856-2bf9c31c7eed"
      },
      "execution_count": 55,
      "outputs": [
        {
          "output_type": "stream",
          "name": "stderr",
          "text": [
            "/usr/local/lib/python3.7/dist-packages/transformers/tokenization_utils_base.py:2232: FutureWarning: The `pad_to_max_length` argument is deprecated and will be removed in a future version, use `padding=True` or `padding='longest'` to pad to the longest sequence in the batch, or use `padding='max_length'` to pad to a max length. In this case, you can give a specific length with `max_length` (e.g. `max_length=45`) or leave max_length to None to pad to the maximal input size of the model (e.g. 512 for Bert).\n",
            "  FutureWarning,\n"
          ]
        }
      ]
    },
    {
      "cell_type": "code",
      "source": [
        "augmented_1_data=[]\n",
        "\n",
        "for s in range(len(seperated_data_one)):\n",
        "  augmented_1_data.append(paraphrase(seperated_data_one[s]))"
      ],
      "metadata": {
        "id": "hpyW27_Pht0T",
        "colab": {
          "base_uri": "https://localhost:8080/"
        },
        "outputId": "c12d48f3-b88b-424c-c398-3f3a31a43b6b"
      },
      "execution_count": 61,
      "outputs": [
        {
          "output_type": "stream",
          "name": "stderr",
          "text": [
            "/usr/local/lib/python3.7/dist-packages/transformers/tokenization_utils_base.py:2232: FutureWarning: The `pad_to_max_length` argument is deprecated and will be removed in a future version, use `padding=True` or `padding='longest'` to pad to the longest sequence in the batch, or use `padding='max_length'` to pad to a max length. In this case, you can give a specific length with `max_length` (e.g. `max_length=45`) or leave max_length to None to pad to the maximal input size of the model (e.g. 512 for Bert).\n",
            "  FutureWarning,\n"
          ]
        }
      ]
    },
    {
      "cell_type": "code",
      "source": [
        "T5_reddit_0 = pd.DataFrame(augmented_0_data, columns = ['text'])\n",
        "T5_reddit_1 = pd.DataFrame(augmented_1_data, columns = ['text'])"
      ],
      "metadata": {
        "id": "SosZybf5jQsF"
      },
      "execution_count": 66,
      "outputs": []
    },
    {
      "cell_type": "code",
      "source": [
        "T5_reddit_0.to_csv('T5_reddit_0.csv')\n",
        "T5_reddit_1.to_csv('T5_reddit_1.csv')"
      ],
      "metadata": {
        "id": "HMCr1BUZjYRh"
      },
      "execution_count": null,
      "outputs": []
    }
  ]
}