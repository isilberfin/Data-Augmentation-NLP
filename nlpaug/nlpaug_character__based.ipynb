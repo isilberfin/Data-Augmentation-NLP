{
  "nbformat": 4,
  "nbformat_minor": 0,
  "metadata": {
    "colab": {
      "name": "nlpaug_character _based.ipynb",
      "provenance": [],
      "collapsed_sections": []
    },
    "kernelspec": {
      "name": "python3",
      "display_name": "Python 3"
    },
    "language_info": {
      "name": "python"
    }
  },
  "cells": [
    {
      "cell_type": "markdown",
      "source": [
        "#*nlpaug character based augmentation*\n",
        "* nlpgaug is a library for textual augmentation in machine learning experiments. The goal is improving deep learning model performance by generating textual data. "
      ],
      "metadata": {
        "id": "oxd_waaXAWJO"
      }
    },
    {
      "cell_type": "code",
      "execution_count": null,
      "metadata": {
        "id": "JPsvfinl-_b_"
      },
      "outputs": [],
      "source": [
        "!pip install torch>=1.6.0 transformers>=4.0.0 sentencepiece\n",
        "!pip install numpy requests nlpaug"
      ]
    },
    {
      "cell_type": "code",
      "source": [
        "import nlpaug.augmenter.char as nac\n",
        "import nlpaug.flow as nafc\n",
        "from nlpaug.util import Action"
      ],
      "metadata": {
        "id": "GYzdAQzE_Fc2"
      },
      "execution_count": 2,
      "outputs": []
    },
    {
      "cell_type": "code",
      "source": [
        "text = 'I spilled coffee on my computer'"
      ],
      "metadata": {
        "id": "iBdCZb1g_MiF"
      },
      "execution_count": 3,
      "outputs": []
    },
    {
      "cell_type": "markdown",
      "source": [
        "#*OCR*\n",
        "* Type of augmentation that implements ocr error to given text.\n",
        "\n",
        "What is ocr ?\n",
        " * Optical character recognition (OCR) lets you turn scanned images into text so you can turn paper-based documents into editable, searchable, digital documents. Ocr error is caused by negatively influenced by poor image quality. For example, classifying the letter O az 0 can be an ocr error.\n"
      ],
      "metadata": {
        "id": "-2RsHx0L_phA"
      }
    },
    {
      "cell_type": "code",
      "source": [
        "aug = nac.OcrAug()\n",
        "print(\"sentence: \",text)\n",
        "print(\"augmented: \",aug.augment(text))"
      ],
      "metadata": {
        "colab": {
          "base_uri": "https://localhost:8080/"
        },
        "id": "C0pfu4up_TxH",
        "outputId": "a8b3019d-9863-495b-8c32-9840c447df26"
      },
      "execution_count": 12,
      "outputs": [
        {
          "output_type": "stream",
          "name": "stdout",
          "text": [
            "sentence:  I spilled coffee on my computer\n",
            "augmented:  I spilled coffee on my cumpotek\n"
          ]
        }
      ]
    },
    {
      "cell_type": "markdown",
      "source": [
        "#*Keyboard*\n",
        "* Augmenter that simulate typo error by random values. For example, people may type i as o incorrectly. One keyboard distance is leveraged to replace character by possible keyboard error."
      ],
      "metadata": {
        "id": "4OzbBiUm_qf1"
      }
    },
    {
      "cell_type": "code",
      "source": [
        "aug = nac.KeyboardAug()\n",
        "print(\"sentence: \",text)\n",
        "print(\"augmented: \",aug.augment(text))"
      ],
      "metadata": {
        "colab": {
          "base_uri": "https://localhost:8080/"
        },
        "id": "qLO8fsoI_anA",
        "outputId": "a8f5dc6b-f799-40ff-c7e9-8c818d2b9f77"
      },
      "execution_count": 11,
      "outputs": [
        {
          "output_type": "stream",
          "name": "stdout",
          "text": [
            "sentence:  I spilled coffee on my computer\n",
            "augmented:  I eoiller c*Dfee on my computer\n"
          ]
        }
      ]
    },
    {
      "cell_type": "markdown",
      "source": [
        "#*Random insert*\n",
        "* Augmentation that is based on generating character error by inserting random values"
      ],
      "metadata": {
        "id": "_NJGOTDv_vCH"
      }
    },
    {
      "cell_type": "code",
      "source": [
        "aug = nac.RandomCharAug(action=\"insert\")\n",
        "print(\"sentence: \",text)\n",
        "print(\"augmented: \",aug.augment(text))"
      ],
      "metadata": {
        "colab": {
          "base_uri": "https://localhost:8080/"
        },
        "id": "2Sj4Atvf_vXA",
        "outputId": "ea25fa97-b230-47e5-e898-89562507eab3"
      },
      "execution_count": 14,
      "outputs": [
        {
          "output_type": "stream",
          "name": "stdout",
          "text": [
            "sentence:  I spilled coffee on my computer\n",
            "augmented:  I spilled cofgfeTe on my complust#er\n"
          ]
        }
      ]
    },
    {
      "cell_type": "markdown",
      "source": [
        "#*Random substitute*\n",
        "* Augmentation that is based on generating character error by substituting random values"
      ],
      "metadata": {
        "id": "aoDYOd53_-Qa"
      }
    },
    {
      "cell_type": "code",
      "source": [
        "aug = nac.RandomCharAug(action=\"substitute\")\n",
        "print(\"sentence: \",text)\n",
        "print(\"augmented: \",aug.augment(text))"
      ],
      "metadata": {
        "colab": {
          "base_uri": "https://localhost:8080/"
        },
        "id": "KRsJ-2Wf_3_A",
        "outputId": "00f92f32-95f8-4db8-eaa1-1d73c0fd73de"
      },
      "execution_count": 15,
      "outputs": [
        {
          "output_type": "stream",
          "name": "stdout",
          "text": [
            "sentence:  I spilled coffee on my computer\n",
            "augmented:  I spilled coC)ee on my comMuze4\n"
          ]
        }
      ]
    },
    {
      "cell_type": "markdown",
      "source": [
        "#*Random swap*\n",
        "* Augmentation based on randomly swapping characters"
      ],
      "metadata": {
        "id": "uHB8FamsAEcJ"
      }
    },
    {
      "cell_type": "code",
      "source": [
        "aug = nac.RandomCharAug(action=\"swap\")\n",
        "print(\"sentence: \",text)\n",
        "print(\"augmented: \",aug.augment(text))"
      ],
      "metadata": {
        "colab": {
          "base_uri": "https://localhost:8080/"
        },
        "id": "UiPp3w--AE2i",
        "outputId": "78fd964e-a1aa-49fe-933f-3f26ea8d6832"
      },
      "execution_count": 16,
      "outputs": [
        {
          "output_type": "stream",
          "name": "stdout",
          "text": [
            "sentence:  I spilled coffee on my computer\n",
            "augmented:  I spllied coffee on my omcupter\n"
          ]
        }
      ]
    },
    {
      "cell_type": "markdown",
      "source": [
        "#*Random delete*\n",
        "* Augmentation based on randomly deleting characters"
      ],
      "metadata": {
        "id": "Fnn3r95sAKub"
      }
    },
    {
      "cell_type": "code",
      "source": [
        "aug = nac.RandomCharAug(action=\"delete\")\n",
        "print(\"sentence: \",text)\n",
        "print(\"augmented: \",aug.augment(text))"
      ],
      "metadata": {
        "colab": {
          "base_uri": "https://localhost:8080/"
        },
        "id": "fQvP_5z_AJhR",
        "outputId": "c7997f24-a100-4ca3-b9e9-22fa3a33cca2"
      },
      "execution_count": 17,
      "outputs": [
        {
          "output_type": "stream",
          "name": "stdout",
          "text": [
            "sentence:  I spilled coffee on my computer\n",
            "augmented:  I spilled ofee on my ompue\n"
          ]
        }
      ]
    },
    {
      "cell_type": "markdown",
      "source": [
        "#*Resources*\n",
        "* https://nlpaug.readthedocs.io/en/latest/index.html\n",
        "* OCR Error Correction Using Character Correction and Feature-Based Word Classification, Ido Kissos, Nachum Dershowitz\n",
        "* https://www.konicaminolta.com.au/news-insight/blog/how-optical-character-recognition-works\n",
        "\n"
      ],
      "metadata": {
        "id": "FXrxYxm8AU8s"
      }
    }
  ]
}